{
 "cells": [
  {
   "cell_type": "code",
   "execution_count": 1,
   "metadata": {
    "colab": {},
    "colab_type": "code",
    "id": "3x0zndFkP7rQ"
   },
   "outputs": [],
   "source": [
    "#import the libraries\n",
    "import numpy as np\n",
    "import pandas as pd"
   ]
  },
  {
   "cell_type": "code",
   "execution_count": 2,
   "metadata": {
    "colab": {},
    "colab_type": "code",
    "id": "mQs6vmz3QrR6"
   },
   "outputs": [],
   "source": [
    "#importing the data set\n",
    "d=pd.read_csv(\"_ccpp1.csv\")"
   ]
  },
  {
   "cell_type": "code",
   "execution_count": 3,
   "metadata": {
    "colab": {
     "base_uri": "https://localhost:8080/",
     "height": 1000
    },
    "colab_type": "code",
    "id": "zYMrrih-RImo",
    "outputId": "24849d50-551b-4264-cef8-6f7683e26fc4"
   },
   "outputs": [
    {
     "data": {
      "text/html": [
       "<div>\n",
       "<style scoped>\n",
       "    .dataframe tbody tr th:only-of-type {\n",
       "        vertical-align: middle;\n",
       "    }\n",
       "\n",
       "    .dataframe tbody tr th {\n",
       "        vertical-align: top;\n",
       "    }\n",
       "\n",
       "    .dataframe thead th {\n",
       "        text-align: right;\n",
       "    }\n",
       "</style>\n",
       "<table border=\"1\" class=\"dataframe\">\n",
       "  <thead>\n",
       "    <tr style=\"text-align: right;\">\n",
       "      <th></th>\n",
       "      <th>Temperature</th>\n",
       "      <th>Exhaust Vaccum</th>\n",
       "      <th>Ambient Pressure</th>\n",
       "      <th>Relative Humidity</th>\n",
       "      <th>Energy Output</th>\n",
       "    </tr>\n",
       "  </thead>\n",
       "  <tbody>\n",
       "    <tr>\n",
       "      <th>0</th>\n",
       "      <td>9.59</td>\n",
       "      <td>38.56</td>\n",
       "      <td>1017.01</td>\n",
       "      <td>60.10</td>\n",
       "      <td>481.30</td>\n",
       "    </tr>\n",
       "    <tr>\n",
       "      <th>1</th>\n",
       "      <td>12.04</td>\n",
       "      <td>42.34</td>\n",
       "      <td>1024.42</td>\n",
       "      <td>81.69</td>\n",
       "      <td>465.36</td>\n",
       "    </tr>\n",
       "    <tr>\n",
       "      <th>2</th>\n",
       "      <td>13.87</td>\n",
       "      <td>45.08</td>\n",
       "      <td>1024.42</td>\n",
       "      <td>81.69</td>\n",
       "      <td>465.48</td>\n",
       "    </tr>\n",
       "    <tr>\n",
       "      <th>3</th>\n",
       "      <td>13.72</td>\n",
       "      <td>54.30</td>\n",
       "      <td>1017.89</td>\n",
       "      <td>79.08</td>\n",
       "      <td>467.05</td>\n",
       "    </tr>\n",
       "    <tr>\n",
       "      <th>4</th>\n",
       "      <td>15.14</td>\n",
       "      <td>49.64</td>\n",
       "      <td>1023.78</td>\n",
       "      <td>75.00</td>\n",
       "      <td>463.58</td>\n",
       "    </tr>\n",
       "    <tr>\n",
       "      <th>5</th>\n",
       "      <td>23.63</td>\n",
       "      <td>60.93</td>\n",
       "      <td>1006.41</td>\n",
       "      <td>83.06</td>\n",
       "      <td>439.90</td>\n",
       "    </tr>\n",
       "    <tr>\n",
       "      <th>6</th>\n",
       "      <td>22.99</td>\n",
       "      <td>61.02</td>\n",
       "      <td>1009.88</td>\n",
       "      <td>81.56</td>\n",
       "      <td>440.85</td>\n",
       "    </tr>\n",
       "    <tr>\n",
       "      <th>7</th>\n",
       "      <td>12.85</td>\n",
       "      <td>40.00</td>\n",
       "      <td>1015.89</td>\n",
       "      <td>68.85</td>\n",
       "      <td>463.74</td>\n",
       "    </tr>\n",
       "    <tr>\n",
       "      <th>8</th>\n",
       "      <td>29.88</td>\n",
       "      <td>68.04</td>\n",
       "      <td>1011.14</td>\n",
       "      <td>55.78</td>\n",
       "      <td>429.33</td>\n",
       "    </tr>\n",
       "    <tr>\n",
       "      <th>9</th>\n",
       "      <td>23.22</td>\n",
       "      <td>66.56</td>\n",
       "      <td>1002.47</td>\n",
       "      <td>85.39</td>\n",
       "      <td>437.11</td>\n",
       "    </tr>\n",
       "    <tr>\n",
       "      <th>10</th>\n",
       "      <td>9.02</td>\n",
       "      <td>38.08</td>\n",
       "      <td>1019.02</td>\n",
       "      <td>69.98</td>\n",
       "      <td>478.32</td>\n",
       "    </tr>\n",
       "    <tr>\n",
       "      <th>11</th>\n",
       "      <td>26.12</td>\n",
       "      <td>75.60</td>\n",
       "      <td>1017.41</td>\n",
       "      <td>72.31</td>\n",
       "      <td>439.68</td>\n",
       "    </tr>\n",
       "    <tr>\n",
       "      <th>12</th>\n",
       "      <td>16.66</td>\n",
       "      <td>36.71</td>\n",
       "      <td>1013.68</td>\n",
       "      <td>70.66</td>\n",
       "      <td>466.07</td>\n",
       "    </tr>\n",
       "    <tr>\n",
       "      <th>13</th>\n",
       "      <td>29.56</td>\n",
       "      <td>52.84</td>\n",
       "      <td>1006.09</td>\n",
       "      <td>42.17</td>\n",
       "      <td>436.46</td>\n",
       "    </tr>\n",
       "    <tr>\n",
       "      <th>14</th>\n",
       "      <td>30.00</td>\n",
       "      <td>61.50</td>\n",
       "      <td>1009.40</td>\n",
       "      <td>48.63</td>\n",
       "      <td>435.60</td>\n",
       "    </tr>\n",
       "    <tr>\n",
       "      <th>15</th>\n",
       "      <td>30.39</td>\n",
       "      <td>70.98</td>\n",
       "      <td>1007.55</td>\n",
       "      <td>72.76</td>\n",
       "      <td>435.48</td>\n",
       "    </tr>\n",
       "    <tr>\n",
       "      <th>16</th>\n",
       "      <td>20.88</td>\n",
       "      <td>47.45</td>\n",
       "      <td>1007.50</td>\n",
       "      <td>76.21</td>\n",
       "      <td>449.35</td>\n",
       "    </tr>\n",
       "    <tr>\n",
       "      <th>17</th>\n",
       "      <td>28.14</td>\n",
       "      <td>61.47</td>\n",
       "      <td>1009.69</td>\n",
       "      <td>64.66</td>\n",
       "      <td>435.35</td>\n",
       "    </tr>\n",
       "    <tr>\n",
       "      <th>18</th>\n",
       "      <td>18.86</td>\n",
       "      <td>46.48</td>\n",
       "      <td>1007.28</td>\n",
       "      <td>78.47</td>\n",
       "      <td>452.00</td>\n",
       "    </tr>\n",
       "    <tr>\n",
       "      <th>19</th>\n",
       "      <td>31.85</td>\n",
       "      <td>68.30</td>\n",
       "      <td>1014.76</td>\n",
       "      <td>47.06</td>\n",
       "      <td>428.72</td>\n",
       "    </tr>\n",
       "    <tr>\n",
       "      <th>20</th>\n",
       "      <td>17.47</td>\n",
       "      <td>63.31</td>\n",
       "      <td>1015.28</td>\n",
       "      <td>88.22</td>\n",
       "      <td>450.68</td>\n",
       "    </tr>\n",
       "    <tr>\n",
       "      <th>21</th>\n",
       "      <td>25.04</td>\n",
       "      <td>51.95</td>\n",
       "      <td>1005.56</td>\n",
       "      <td>66.53</td>\n",
       "      <td>449.45</td>\n",
       "    </tr>\n",
       "    <tr>\n",
       "      <th>22</th>\n",
       "      <td>29.01</td>\n",
       "      <td>70.32</td>\n",
       "      <td>1007.26</td>\n",
       "      <td>60.55</td>\n",
       "      <td>429.23</td>\n",
       "    </tr>\n",
       "    <tr>\n",
       "      <th>23</th>\n",
       "      <td>22.36</td>\n",
       "      <td>59.44</td>\n",
       "      <td>1013.10</td>\n",
       "      <td>84.74</td>\n",
       "      <td>446.75</td>\n",
       "    </tr>\n",
       "    <tr>\n",
       "      <th>24</th>\n",
       "      <td>13.98</td>\n",
       "      <td>40.24</td>\n",
       "      <td>1017.19</td>\n",
       "      <td>87.45</td>\n",
       "      <td>467.20</td>\n",
       "    </tr>\n",
       "    <tr>\n",
       "      <th>25</th>\n",
       "      <td>19.60</td>\n",
       "      <td>59.21</td>\n",
       "      <td>1017.65</td>\n",
       "      <td>86.29</td>\n",
       "      <td>449.23</td>\n",
       "    </tr>\n",
       "    <tr>\n",
       "      <th>26</th>\n",
       "      <td>12.51</td>\n",
       "      <td>43.67</td>\n",
       "      <td>1013.24</td>\n",
       "      <td>91.55</td>\n",
       "      <td>471.96</td>\n",
       "    </tr>\n",
       "    <tr>\n",
       "      <th>27</th>\n",
       "      <td>22.76</td>\n",
       "      <td>58.96</td>\n",
       "      <td>1013.85</td>\n",
       "      <td>55.95</td>\n",
       "      <td>454.05</td>\n",
       "    </tr>\n",
       "    <tr>\n",
       "      <th>28</th>\n",
       "      <td>19.65</td>\n",
       "      <td>44.89</td>\n",
       "      <td>1009.76</td>\n",
       "      <td>75.36</td>\n",
       "      <td>451.35</td>\n",
       "    </tr>\n",
       "    <tr>\n",
       "      <th>29</th>\n",
       "      <td>14.78</td>\n",
       "      <td>38.58</td>\n",
       "      <td>1017.02</td>\n",
       "      <td>82.40</td>\n",
       "      <td>460.54</td>\n",
       "    </tr>\n",
       "    <tr>\n",
       "      <th>30</th>\n",
       "      <td>33.94</td>\n",
       "      <td>74.67</td>\n",
       "      <td>1015.94</td>\n",
       "      <td>28.16</td>\n",
       "      <td>427.98</td>\n",
       "    </tr>\n",
       "    <tr>\n",
       "      <th>31</th>\n",
       "      <td>7.55</td>\n",
       "      <td>42.85</td>\n",
       "      <td>1011.21</td>\n",
       "      <td>93.25</td>\n",
       "      <td>484.93</td>\n",
       "    </tr>\n",
       "    <tr>\n",
       "      <th>32</th>\n",
       "      <td>5.62</td>\n",
       "      <td>41.38</td>\n",
       "      <td>1020.91</td>\n",
       "      <td>86.21</td>\n",
       "      <td>490.83</td>\n",
       "    </tr>\n",
       "    <tr>\n",
       "      <th>33</th>\n",
       "      <td>20.76</td>\n",
       "      <td>59.04</td>\n",
       "      <td>1012.51</td>\n",
       "      <td>85.39</td>\n",
       "      <td>448.92</td>\n",
       "    </tr>\n",
       "    <tr>\n",
       "      <th>34</th>\n",
       "      <td>18.44</td>\n",
       "      <td>39.72</td>\n",
       "      <td>1001.14</td>\n",
       "      <td>66.83</td>\n",
       "      <td>460.44</td>\n",
       "    </tr>\n",
       "    <tr>\n",
       "      <th>35</th>\n",
       "      <td>12.78</td>\n",
       "      <td>41.04</td>\n",
       "      <td>1025.16</td>\n",
       "      <td>85.14</td>\n",
       "      <td>461.61</td>\n",
       "    </tr>\n",
       "    <tr>\n",
       "      <th>36</th>\n",
       "      <td>8.95</td>\n",
       "      <td>43.13</td>\n",
       "      <td>1017.56</td>\n",
       "      <td>94.85</td>\n",
       "      <td>479.14</td>\n",
       "    </tr>\n",
       "    <tr>\n",
       "      <th>37</th>\n",
       "      <td>31.95</td>\n",
       "      <td>70.40</td>\n",
       "      <td>1008.38</td>\n",
       "      <td>66.26</td>\n",
       "      <td>432.79</td>\n",
       "    </tr>\n",
       "    <tr>\n",
       "      <th>38</th>\n",
       "      <td>9.95</td>\n",
       "      <td>41.82</td>\n",
       "      <td>1033.09</td>\n",
       "      <td>69.44</td>\n",
       "      <td>477.52</td>\n",
       "    </tr>\n",
       "    <tr>\n",
       "      <th>39</th>\n",
       "      <td>22.25</td>\n",
       "      <td>59.80</td>\n",
       "      <td>1016.79</td>\n",
       "      <td>69.02</td>\n",
       "      <td>451.64</td>\n",
       "    </tr>\n",
       "    <tr>\n",
       "      <th>40</th>\n",
       "      <td>23.95</td>\n",
       "      <td>58.79</td>\n",
       "      <td>1010.45</td>\n",
       "      <td>74.34</td>\n",
       "      <td>448.32</td>\n",
       "    </tr>\n",
       "    <tr>\n",
       "      <th>41</th>\n",
       "      <td>32.50</td>\n",
       "      <td>73.68</td>\n",
       "      <td>1014.65</td>\n",
       "      <td>55.72</td>\n",
       "      <td>427.63</td>\n",
       "    </tr>\n",
       "    <tr>\n",
       "      <th>42</th>\n",
       "      <td>26.55</td>\n",
       "      <td>69.45</td>\n",
       "      <td>1013.92</td>\n",
       "      <td>52.22</td>\n",
       "      <td>434.55</td>\n",
       "    </tr>\n",
       "    <tr>\n",
       "      <th>43</th>\n",
       "      <td>13.55</td>\n",
       "      <td>40.10</td>\n",
       "      <td>1015.70</td>\n",
       "      <td>86.68</td>\n",
       "      <td>474.59</td>\n",
       "    </tr>\n",
       "    <tr>\n",
       "      <th>44</th>\n",
       "      <td>18.02</td>\n",
       "      <td>49.78</td>\n",
       "      <td>1003.86</td>\n",
       "      <td>100.09</td>\n",
       "      <td>451.41</td>\n",
       "    </tr>\n",
       "    <tr>\n",
       "      <th>45</th>\n",
       "      <td>28.41</td>\n",
       "      <td>75.60</td>\n",
       "      <td>1018.47</td>\n",
       "      <td>56.07</td>\n",
       "      <td>440.28</td>\n",
       "    </tr>\n",
       "    <tr>\n",
       "      <th>46</th>\n",
       "      <td>24.60</td>\n",
       "      <td>63.94</td>\n",
       "      <td>1012.87</td>\n",
       "      <td>80.28</td>\n",
       "      <td>439.63</td>\n",
       "    </tr>\n",
       "    <tr>\n",
       "      <th>47</th>\n",
       "      <td>21.01</td>\n",
       "      <td>60.10</td>\n",
       "      <td>1010.93</td>\n",
       "      <td>78.60</td>\n",
       "      <td>450.99</td>\n",
       "    </tr>\n",
       "    <tr>\n",
       "      <th>48</th>\n",
       "      <td>23.34</td>\n",
       "      <td>45.61</td>\n",
       "      <td>1012.73</td>\n",
       "      <td>74.09</td>\n",
       "      <td>455.82</td>\n",
       "    </tr>\n",
       "    <tr>\n",
       "      <th>49</th>\n",
       "      <td>30.89</td>\n",
       "      <td>74.87</td>\n",
       "      <td>1008.99</td>\n",
       "      <td>56.58</td>\n",
       "      <td>432.68</td>\n",
       "    </tr>\n",
       "  </tbody>\n",
       "</table>\n",
       "</div>"
      ],
      "text/plain": [
       "    Temperature  Exhaust Vaccum  Ambient Pressure  Relative Humidity  \\\n",
       "0          9.59           38.56           1017.01              60.10   \n",
       "1         12.04           42.34           1024.42              81.69   \n",
       "2         13.87           45.08           1024.42              81.69   \n",
       "3         13.72           54.30           1017.89              79.08   \n",
       "4         15.14           49.64           1023.78              75.00   \n",
       "5         23.63           60.93           1006.41              83.06   \n",
       "6         22.99           61.02           1009.88              81.56   \n",
       "7         12.85           40.00           1015.89              68.85   \n",
       "8         29.88           68.04           1011.14              55.78   \n",
       "9         23.22           66.56           1002.47              85.39   \n",
       "10         9.02           38.08           1019.02              69.98   \n",
       "11        26.12           75.60           1017.41              72.31   \n",
       "12        16.66           36.71           1013.68              70.66   \n",
       "13        29.56           52.84           1006.09              42.17   \n",
       "14        30.00           61.50           1009.40              48.63   \n",
       "15        30.39           70.98           1007.55              72.76   \n",
       "16        20.88           47.45           1007.50              76.21   \n",
       "17        28.14           61.47           1009.69              64.66   \n",
       "18        18.86           46.48           1007.28              78.47   \n",
       "19        31.85           68.30           1014.76              47.06   \n",
       "20        17.47           63.31           1015.28              88.22   \n",
       "21        25.04           51.95           1005.56              66.53   \n",
       "22        29.01           70.32           1007.26              60.55   \n",
       "23        22.36           59.44           1013.10              84.74   \n",
       "24        13.98           40.24           1017.19              87.45   \n",
       "25        19.60           59.21           1017.65              86.29   \n",
       "26        12.51           43.67           1013.24              91.55   \n",
       "27        22.76           58.96           1013.85              55.95   \n",
       "28        19.65           44.89           1009.76              75.36   \n",
       "29        14.78           38.58           1017.02              82.40   \n",
       "30        33.94           74.67           1015.94              28.16   \n",
       "31         7.55           42.85           1011.21              93.25   \n",
       "32         5.62           41.38           1020.91              86.21   \n",
       "33        20.76           59.04           1012.51              85.39   \n",
       "34        18.44           39.72           1001.14              66.83   \n",
       "35        12.78           41.04           1025.16              85.14   \n",
       "36         8.95           43.13           1017.56              94.85   \n",
       "37        31.95           70.40           1008.38              66.26   \n",
       "38         9.95           41.82           1033.09              69.44   \n",
       "39        22.25           59.80           1016.79              69.02   \n",
       "40        23.95           58.79           1010.45              74.34   \n",
       "41        32.50           73.68           1014.65              55.72   \n",
       "42        26.55           69.45           1013.92              52.22   \n",
       "43        13.55           40.10           1015.70              86.68   \n",
       "44        18.02           49.78           1003.86             100.09   \n",
       "45        28.41           75.60           1018.47              56.07   \n",
       "46        24.60           63.94           1012.87              80.28   \n",
       "47        21.01           60.10           1010.93              78.60   \n",
       "48        23.34           45.61           1012.73              74.09   \n",
       "49        30.89           74.87           1008.99              56.58   \n",
       "\n",
       "    Energy Output  \n",
       "0          481.30  \n",
       "1          465.36  \n",
       "2          465.48  \n",
       "3          467.05  \n",
       "4          463.58  \n",
       "5          439.90  \n",
       "6          440.85  \n",
       "7          463.74  \n",
       "8          429.33  \n",
       "9          437.11  \n",
       "10         478.32  \n",
       "11         439.68  \n",
       "12         466.07  \n",
       "13         436.46  \n",
       "14         435.60  \n",
       "15         435.48  \n",
       "16         449.35  \n",
       "17         435.35  \n",
       "18         452.00  \n",
       "19         428.72  \n",
       "20         450.68  \n",
       "21         449.45  \n",
       "22         429.23  \n",
       "23         446.75  \n",
       "24         467.20  \n",
       "25         449.23  \n",
       "26         471.96  \n",
       "27         454.05  \n",
       "28         451.35  \n",
       "29         460.54  \n",
       "30         427.98  \n",
       "31         484.93  \n",
       "32         490.83  \n",
       "33         448.92  \n",
       "34         460.44  \n",
       "35         461.61  \n",
       "36         479.14  \n",
       "37         432.79  \n",
       "38         477.52  \n",
       "39         451.64  \n",
       "40         448.32  \n",
       "41         427.63  \n",
       "42         434.55  \n",
       "43         474.59  \n",
       "44         451.41  \n",
       "45         440.28  \n",
       "46         439.63  \n",
       "47         450.99  \n",
       "48         455.82  \n",
       "49         432.68  "
      ]
     },
     "execution_count": 3,
     "metadata": {},
     "output_type": "execute_result"
    }
   ],
   "source": [
    "d"
   ]
  },
  {
   "cell_type": "code",
   "execution_count": 4,
   "metadata": {},
   "outputs": [
    {
     "data": {
      "text/html": [
       "<div>\n",
       "<style scoped>\n",
       "    .dataframe tbody tr th:only-of-type {\n",
       "        vertical-align: middle;\n",
       "    }\n",
       "\n",
       "    .dataframe tbody tr th {\n",
       "        vertical-align: top;\n",
       "    }\n",
       "\n",
       "    .dataframe thead th {\n",
       "        text-align: right;\n",
       "    }\n",
       "</style>\n",
       "<table border=\"1\" class=\"dataframe\">\n",
       "  <thead>\n",
       "    <tr style=\"text-align: right;\">\n",
       "      <th></th>\n",
       "      <th>Temperature</th>\n",
       "      <th>Exhaust Vaccum</th>\n",
       "      <th>Ambient Pressure</th>\n",
       "      <th>Relative Humidity</th>\n",
       "      <th>Energy Output</th>\n",
       "    </tr>\n",
       "  </thead>\n",
       "  <tbody>\n",
       "    <tr>\n",
       "      <th>0</th>\n",
       "      <td>9.59</td>\n",
       "      <td>38.56</td>\n",
       "      <td>1017.01</td>\n",
       "      <td>60.10</td>\n",
       "      <td>481.30</td>\n",
       "    </tr>\n",
       "    <tr>\n",
       "      <th>1</th>\n",
       "      <td>12.04</td>\n",
       "      <td>42.34</td>\n",
       "      <td>1024.42</td>\n",
       "      <td>81.69</td>\n",
       "      <td>465.36</td>\n",
       "    </tr>\n",
       "    <tr>\n",
       "      <th>2</th>\n",
       "      <td>13.87</td>\n",
       "      <td>45.08</td>\n",
       "      <td>1024.42</td>\n",
       "      <td>81.69</td>\n",
       "      <td>465.48</td>\n",
       "    </tr>\n",
       "    <tr>\n",
       "      <th>3</th>\n",
       "      <td>13.72</td>\n",
       "      <td>54.30</td>\n",
       "      <td>1017.89</td>\n",
       "      <td>79.08</td>\n",
       "      <td>467.05</td>\n",
       "    </tr>\n",
       "    <tr>\n",
       "      <th>4</th>\n",
       "      <td>15.14</td>\n",
       "      <td>49.64</td>\n",
       "      <td>1023.78</td>\n",
       "      <td>75.00</td>\n",
       "      <td>463.58</td>\n",
       "    </tr>\n",
       "  </tbody>\n",
       "</table>\n",
       "</div>"
      ],
      "text/plain": [
       "   Temperature  Exhaust Vaccum  Ambient Pressure  Relative Humidity  \\\n",
       "0         9.59           38.56           1017.01              60.10   \n",
       "1        12.04           42.34           1024.42              81.69   \n",
       "2        13.87           45.08           1024.42              81.69   \n",
       "3        13.72           54.30           1017.89              79.08   \n",
       "4        15.14           49.64           1023.78              75.00   \n",
       "\n",
       "   Energy Output  \n",
       "0         481.30  \n",
       "1         465.36  \n",
       "2         465.48  \n",
       "3         467.05  \n",
       "4         463.58  "
      ]
     },
     "execution_count": 4,
     "metadata": {},
     "output_type": "execute_result"
    }
   ],
   "source": [
    "d.head()"
   ]
  },
  {
   "cell_type": "code",
   "execution_count": 5,
   "metadata": {},
   "outputs": [
    {
     "name": "stdout",
     "output_type": "stream",
     "text": [
      "<class 'pandas.core.frame.DataFrame'>\n",
      "RangeIndex: 50 entries, 0 to 49\n",
      "Data columns (total 5 columns):\n",
      " #   Column             Non-Null Count  Dtype  \n",
      "---  ------             --------------  -----  \n",
      " 0   Temperature        50 non-null     float64\n",
      " 1   Exhaust Vaccum     50 non-null     float64\n",
      " 2   Ambient Pressure   50 non-null     float64\n",
      " 3   Relative Humidity  50 non-null     float64\n",
      " 4   Energy Output      50 non-null     float64\n",
      "dtypes: float64(5)\n",
      "memory usage: 2.1 KB\n"
     ]
    }
   ],
   "source": [
    "d.info()"
   ]
  },
  {
   "cell_type": "code",
   "execution_count": 6,
   "metadata": {},
   "outputs": [
    {
     "data": {
      "text/plain": [
       "<seaborn.axisgrid.PairGrid at 0x831b408>"
      ]
     },
     "execution_count": 6,
     "metadata": {},
     "output_type": "execute_result"
    },
    {
     "data": {
      "image/png": "[encoded data removed]",
      "text/plain": [
       "<Figure size 900x900 with 30 Axes>"
      ]
     },
     "metadata": {
      "needs_background": "light"
     },
     "output_type": "display_data"
    }
   ],
   "source": [
    "import seaborn as snp\n",
    "snp.pairplot(d)\n",
    "\n"
   ]
  },
  {
   "cell_type": "code",
   "execution_count": 7,
   "metadata": {
    "colab": {
     "base_uri": "https://localhost:8080/",
     "height": 121
    },
    "colab_type": "code",
    "id": "xBddCzeQRoUj",
    "outputId": "3e0ec6ae-5520-4c2a-eb01-d82e7200af02"
   },
   "outputs": [
    {
     "data": {
      "text/plain": [
       "Temperature          False\n",
       "Exhaust Vaccum       False\n",
       "Ambient Pressure     False\n",
       "Relative Humidity    False\n",
       "Energy Output        False\n",
       "dtype: bool"
      ]
     },
     "execution_count": 7,
     "metadata": {},
     "output_type": "execute_result"
    }
   ],
   "source": [
    "#Taking care of missing data\n",
    "d.isnull().any()"
   ]
  },
  {
   "cell_type": "markdown",
   "metadata": {
    "colab_type": "text",
    "id": "15UeYgv1Vobm"
   },
   "source": [
    "# Label Encoding\n",
    "#No need of label encodingbecausethere is no textual data"
   ]
  },
  {
   "cell_type": "code",
   "execution_count": 8,
   "metadata": {},
   "outputs": [],
   "source": [
    "x=d.iloc[:,0:4]"
   ]
  },
  {
   "cell_type": "code",
   "execution_count": 9,
   "metadata": {},
   "outputs": [],
   "source": [
    "y=d.iloc[:,4]"
   ]
  },
  {
   "cell_type": "code",
   "execution_count": 10,
   "metadata": {},
   "outputs": [
    {
     "data": {
      "text/plain": [
       "pandas.core.frame.DataFrame"
      ]
     },
     "execution_count": 10,
     "metadata": {},
     "output_type": "execute_result"
    }
   ],
   "source": [
    "type(x)"
   ]
  },
  {
   "cell_type": "code",
   "execution_count": 11,
   "metadata": {},
   "outputs": [
    {
     "data": {
      "text/plain": [
       "pandas.core.series.Series"
      ]
     },
     "execution_count": 11,
     "metadata": {},
     "output_type": "execute_result"
    }
   ],
   "source": [
    "type(y)"
   ]
  },
  {
   "cell_type": "code",
   "execution_count": 12,
   "metadata": {},
   "outputs": [],
   "source": [
    "x=d.iloc[:,0:4].values\n",
    "y=d.iloc[:,4:5].values"
   ]
  },
  {
   "cell_type": "code",
   "execution_count": 13,
   "metadata": {},
   "outputs": [
    {
     "data": {
      "text/plain": [
       "numpy.ndarray"
      ]
     },
     "execution_count": 13,
     "metadata": {},
     "output_type": "execute_result"
    }
   ],
   "source": [
    "type(x)"
   ]
  },
  {
   "cell_type": "code",
   "execution_count": 14,
   "metadata": {},
   "outputs": [
    {
     "data": {
      "text/plain": [
       "(50, 4)"
      ]
     },
     "execution_count": 14,
     "metadata": {},
     "output_type": "execute_result"
    }
   ],
   "source": [
    "x.shape"
   ]
  },
  {
   "cell_type": "code",
   "execution_count": 15,
   "metadata": {},
   "outputs": [
    {
     "data": {
      "text/plain": [
       "(50, 1)"
      ]
     },
     "execution_count": 15,
     "metadata": {},
     "output_type": "execute_result"
    }
   ],
   "source": [
    "y.shape"
   ]
  },
  {
   "cell_type": "code",
   "execution_count": 16,
   "metadata": {},
   "outputs": [
    {
     "data": {
      "text/plain": [
       "numpy.ndarray"
      ]
     },
     "execution_count": 16,
     "metadata": {},
     "output_type": "execute_result"
    }
   ],
   "source": [
    "type(y)"
   ]
  },
  {
   "cell_type": "code",
   "execution_count": 17,
   "metadata": {},
   "outputs": [
    {
     "data": {
      "text/plain": [
       "array([[   9.59,   38.56, 1017.01,   60.1 ],\n",
       "       [  12.04,   42.34, 1024.42,   81.69],\n",
       "       [  13.87,   45.08, 1024.42,   81.69],\n",
       "       [  13.72,   54.3 , 1017.89,   79.08],\n",
       "       [  15.14,   49.64, 1023.78,   75.  ],\n",
       "       [  23.63,   60.93, 1006.41,   83.06],\n",
       "       [  22.99,   61.02, 1009.88,   81.56],\n",
       "       [  12.85,   40.  , 1015.89,   68.85],\n",
       "       [  29.88,   68.04, 1011.14,   55.78],\n",
       "       [  23.22,   66.56, 1002.47,   85.39],\n",
       "       [   9.02,   38.08, 1019.02,   69.98],\n",
       "       [  26.12,   75.6 , 1017.41,   72.31],\n",
       "       [  16.66,   36.71, 1013.68,   70.66],\n",
       "       [  29.56,   52.84, 1006.09,   42.17],\n",
       "       [  30.  ,   61.5 , 1009.4 ,   48.63],\n",
       "       [  30.39,   70.98, 1007.55,   72.76],\n",
       "       [  20.88,   47.45, 1007.5 ,   76.21],\n",
       "       [  28.14,   61.47, 1009.69,   64.66],\n",
       "       [  18.86,   46.48, 1007.28,   78.47],\n",
       "       [  31.85,   68.3 , 1014.76,   47.06],\n",
       "       [  17.47,   63.31, 1015.28,   88.22],\n",
       "       [  25.04,   51.95, 1005.56,   66.53],\n",
       "       [  29.01,   70.32, 1007.26,   60.55],\n",
       "       [  22.36,   59.44, 1013.1 ,   84.74],\n",
       "       [  13.98,   40.24, 1017.19,   87.45],\n",
       "       [  19.6 ,   59.21, 1017.65,   86.29],\n",
       "       [  12.51,   43.67, 1013.24,   91.55],\n",
       "       [  22.76,   58.96, 1013.85,   55.95],\n",
       "       [  19.65,   44.89, 1009.76,   75.36],\n",
       "       [  14.78,   38.58, 1017.02,   82.4 ],\n",
       "       [  33.94,   74.67, 1015.94,   28.16],\n",
       "       [   7.55,   42.85, 1011.21,   93.25],\n",
       "       [   5.62,   41.38, 1020.91,   86.21],\n",
       "       [  20.76,   59.04, 1012.51,   85.39],\n",
       "       [  18.44,   39.72, 1001.14,   66.83],\n",
       "       [  12.78,   41.04, 1025.16,   85.14],\n",
       "       [   8.95,   43.13, 1017.56,   94.85],\n",
       "       [  31.95,   70.4 , 1008.38,   66.26],\n",
       "       [   9.95,   41.82, 1033.09,   69.44],\n",
       "       [  22.25,   59.8 , 1016.79,   69.02],\n",
       "       [  23.95,   58.79, 1010.45,   74.34],\n",
       "       [  32.5 ,   73.68, 1014.65,   55.72],\n",
       "       [  26.55,   69.45, 1013.92,   52.22],\n",
       "       [  13.55,   40.1 , 1015.7 ,   86.68],\n",
       "       [  18.02,   49.78, 1003.86,  100.09],\n",
       "       [  28.41,   75.6 , 1018.47,   56.07],\n",
       "       [  24.6 ,   63.94, 1012.87,   80.28],\n",
       "       [  21.01,   60.1 , 1010.93,   78.6 ],\n",
       "       [  23.34,   45.61, 1012.73,   74.09],\n",
       "       [  30.89,   74.87, 1008.99,   56.58]])"
      ]
     },
     "execution_count": 17,
     "metadata": {},
     "output_type": "execute_result"
    }
   ],
   "source": [
    "x"
   ]
  },
  {
   "cell_type": "code",
   "execution_count": 18,
   "metadata": {},
   "outputs": [
    {
     "data": {
      "text/plain": [
       "array([[481.3 ],\n",
       "       [465.36],\n",
       "       [465.48],\n",
       "       [467.05],\n",
       "       [463.58],\n",
       "       [439.9 ],\n",
       "       [440.85],\n",
       "       [463.74],\n",
       "       [429.33],\n",
       "       [437.11],\n",
       "       [478.32],\n",
       "       [439.68],\n",
       "       [466.07],\n",
       "       [436.46],\n",
       "       [435.6 ],\n",
       "       [435.48],\n",
       "       [449.35],\n",
       "       [435.35],\n",
       "       [452.  ],\n",
       "       [428.72],\n",
       "       [450.68],\n",
       "       [449.45],\n",
       "       [429.23],\n",
       "       [446.75],\n",
       "       [467.2 ],\n",
       "       [449.23],\n",
       "       [471.96],\n",
       "       [454.05],\n",
       "       [451.35],\n",
       "       [460.54],\n",
       "       [427.98],\n",
       "       [484.93],\n",
       "       [490.83],\n",
       "       [448.92],\n",
       "       [460.44],\n",
       "       [461.61],\n",
       "       [479.14],\n",
       "       [432.79],\n",
       "       [477.52],\n",
       "       [451.64],\n",
       "       [448.32],\n",
       "       [427.63],\n",
       "       [434.55],\n",
       "       [474.59],\n",
       "       [451.41],\n",
       "       [440.28],\n",
       "       [439.63],\n",
       "       [450.99],\n",
       "       [455.82],\n",
       "       [432.68]])"
      ]
     },
     "execution_count": 18,
     "metadata": {},
     "output_type": "execute_result"
    }
   ],
   "source": [
    "y"
   ]
  },
  {
   "cell_type": "code",
   "execution_count": 19,
   "metadata": {},
   "outputs": [],
   "source": [
    "# splitting the data to train and test.\n",
    "from sklearn.model_selection import train_test_split\n",
    "x_train,x_test,y_train,y_test=train_test_split(x,y,test_size=0.2,random_state=0)"
   ]
  },
  {
   "cell_type": "code",
   "execution_count": 20,
   "metadata": {},
   "outputs": [
    {
     "data": {
      "text/plain": [
       "(40, 4)"
      ]
     },
     "execution_count": 20,
     "metadata": {},
     "output_type": "execute_result"
    }
   ],
   "source": [
    "x_train.shape"
   ]
  },
  {
   "cell_type": "code",
   "execution_count": 21,
   "metadata": {},
   "outputs": [
    {
     "data": {
      "text/plain": [
       "(10, 4)"
      ]
     },
     "execution_count": 21,
     "metadata": {},
     "output_type": "execute_result"
    }
   ],
   "source": [
    "x_test.shape"
   ]
  },
  {
   "cell_type": "code",
   "execution_count": 22,
   "metadata": {},
   "outputs": [],
   "source": [
    "#feature scaling\n",
    "from sklearn.preprocessing import StandardScaler\n",
    "sc=StandardScaler()\n",
    "x_train=sc.fit_transform(x_train)\n",
    "x_test=sc.fit_transform(x_test)"
   ]
  },
  {
   "cell_type": "code",
   "execution_count": 23,
   "metadata": {},
   "outputs": [
    {
     "data": {
      "text/plain": [
       "array([[-0.05076075,  0.33714108, -0.02754062,  0.79556257],\n",
       "       [-1.15978418, -1.17715447,  2.29118688,  0.77937549],\n",
       "       [-1.19730753, -0.95589907,  0.10626737,  1.1944122 ],\n",
       "       [-0.3731836 , -1.28820281, -2.11164588, -0.40616619],\n",
       "       [-0.31481395, -0.71950071, -0.98619238,  0.34750421],\n",
       "       [-1.1500559 , -1.26464711,  0.59200871, -0.27537459],\n",
       "       [ 1.23337164,  0.5440948 , -0.59759931, -1.58458555],\n",
       "       [ 1.0124008 ,  1.73029299,  1.06491913, -1.10285808],\n",
       "       [ 0.30779569, -0.79269166,  0.01278508,  0.06390659],\n",
       "       [-0.88183345, -1.3841082 ,  0.79913614,  0.6019651 ],\n",
       "       [ 1.28757203,  1.3416238 , -0.93670175, -0.02220867],\n",
       "       [ 1.78093458,  1.65205438,  0.60117364, -2.90998359],\n",
       "       [-2.1548478 , -1.14855111,  1.51216776,  0.84865619],\n",
       "       [-0.03408371, -0.637897  , -0.94586668,  0.20117302],\n",
       "       [ 0.75390662,  1.21290867,  0.23091043, -1.35213909],\n",
       "       [-0.50798971,  0.69636564,  0.48019655,  0.9788003 ],\n",
       "       [-1.05277315, -1.25623435,  0.55718197,  0.87908789],\n",
       "       [ 1.21669459,  1.09428886, -0.27865972, -1.12163509],\n",
       "       [ 1.17222247, -0.18444961, -1.20431773, -2.00285968],\n",
       "       [-0.21197218,  0.35144276,  0.91461427,  0.85383605],\n",
       "       [ 0.34809855,  0.49614211, -1.14566217,  0.64469899],\n",
       "       [ 0.97487745,  0.54157098, -0.54444271, -0.54667004],\n",
       "       [ 0.39257067,  0.3161092 , -0.40513577,  0.08009367],\n",
       "       [ 1.35705971,  1.66887989, -0.67275175, -1.06983643],\n",
       "       [-1.26262595, -1.06778868,  2.1555459 ,  0.55599379],\n",
       "       [-0.62055976, -1.54142668,  0.18691876, -0.15818014],\n",
       "       [ 1.5043736 ,  1.29282983, -0.7845639 , -0.44307273],\n",
       "       [-0.99301374, -1.2444565 ,  0.83029691,  0.9289441 ],\n",
       "       [ 0.25915431,  0.50371359, -0.50961598,  0.54757651],\n",
       "       [ 0.17159983,  0.37079209,  0.08060557,  0.75347616],\n",
       "       [-1.69205983, -1.00132793,  0.89811739,  1.40808164],\n",
       "       [ 0.54405382, -0.25932311, -1.301466  , -0.42559068],\n",
       "       [ 1.49047606,  1.11616201,  0.38488127, -1.68624041],\n",
       "       [ 0.29111865,  0.96978011, -1.86785872,  0.79556257],\n",
       "       [ 0.15631254,  0.401078  ,  0.75697746, -0.26436738],\n",
       "       [ 0.48290466,  0.74936598,  0.03844688,  0.46469867],\n",
       "       [-1.02914733, -0.06162342,  0.95860594,  0.38700069],\n",
       "       [-1.6031156 , -1.38579075,  0.79730316, -0.84192236],\n",
       "       [-0.01601691,  0.42631626, -0.31715243,  0.3559215 ],\n",
       "       [-0.43155326, -0.44187986, -1.61307365,  1.74736282]])"
      ]
     },
     "execution_count": 23,
     "metadata": {},
     "output_type": "execute_result"
    }
   ],
   "source": [
    "x_train"
   ]
  },
  {
   "cell_type": "code",
   "execution_count": 24,
   "metadata": {},
   "outputs": [
    {
     "data": {
      "text/plain": [
       "2.291186875922222"
      ]
     },
     "execution_count": 24,
     "metadata": {},
     "output_type": "execute_result"
    }
   ],
   "source": [
    "x_train.max()"
   ]
  },
  {
   "cell_type": "code",
   "execution_count": 25,
   "metadata": {},
   "outputs": [
    {
     "data": {
      "text/plain": [
       "-2.9099835911104597"
      ]
     },
     "execution_count": 25,
     "metadata": {},
     "output_type": "execute_result"
    }
   ],
   "source": [
    "x_train.min()"
   ]
  },
  {
   "cell_type": "markdown",
   "metadata": {},
   "source": [
    "# Training and testing the model Using multi linear regression"
   ]
  },
  {
   "cell_type": "code",
   "execution_count": 26,
   "metadata": {},
   "outputs": [
    {
     "data": {
      "text/html": [
       "<div>\n",
       "<style scoped>\n",
       "    .dataframe tbody tr th:only-of-type {\n",
       "        vertical-align: middle;\n",
       "    }\n",
       "\n",
       "    .dataframe tbody tr th {\n",
       "        vertical-align: top;\n",
       "    }\n",
       "\n",
       "    .dataframe thead th {\n",
       "        text-align: right;\n",
       "    }\n",
       "</style>\n",
       "<table border=\"1\" class=\"dataframe\">\n",
       "  <thead>\n",
       "    <tr style=\"text-align: right;\">\n",
       "      <th></th>\n",
       "      <th>Temperature</th>\n",
       "      <th>Exhaust Vaccum</th>\n",
       "      <th>Ambient Pressure</th>\n",
       "      <th>Relative Humidity</th>\n",
       "      <th>Energy Output</th>\n",
       "    </tr>\n",
       "  </thead>\n",
       "  <tbody>\n",
       "    <tr>\n",
       "      <th>count</th>\n",
       "      <td>50.000000</td>\n",
       "      <td>50.000000</td>\n",
       "      <td>50.000000</td>\n",
       "      <td>50.000000</td>\n",
       "      <td>50.000000</td>\n",
       "    </tr>\n",
       "    <tr>\n",
       "      <th>mean</th>\n",
       "      <td>20.611600</td>\n",
       "      <td>54.844400</td>\n",
       "      <td>1013.617200</td>\n",
       "      <td>72.667400</td>\n",
       "      <td>452.257400</td>\n",
       "    </tr>\n",
       "    <tr>\n",
       "      <th>std</th>\n",
       "      <td>7.590746</td>\n",
       "      <td>12.381065</td>\n",
       "      <td>6.279412</td>\n",
       "      <td>14.844648</td>\n",
       "      <td>16.807568</td>\n",
       "    </tr>\n",
       "    <tr>\n",
       "      <th>min</th>\n",
       "      <td>5.620000</td>\n",
       "      <td>36.710000</td>\n",
       "      <td>1001.140000</td>\n",
       "      <td>28.160000</td>\n",
       "      <td>427.630000</td>\n",
       "    </tr>\n",
       "    <tr>\n",
       "      <th>25%</th>\n",
       "      <td>13.897500</td>\n",
       "      <td>42.920000</td>\n",
       "      <td>1009.472500</td>\n",
       "      <td>65.060000</td>\n",
       "      <td>437.740000</td>\n",
       "    </tr>\n",
       "    <tr>\n",
       "      <th>50%</th>\n",
       "      <td>20.945000</td>\n",
       "      <td>56.545000</td>\n",
       "      <td>1013.460000</td>\n",
       "      <td>74.670000</td>\n",
       "      <td>450.835000</td>\n",
       "    </tr>\n",
       "    <tr>\n",
       "      <th>75%</th>\n",
       "      <td>26.442500</td>\n",
       "      <td>63.782500</td>\n",
       "      <td>1017.147500</td>\n",
       "      <td>84.320000</td>\n",
       "      <td>464.955000</td>\n",
       "    </tr>\n",
       "    <tr>\n",
       "      <th>max</th>\n",
       "      <td>33.940000</td>\n",
       "      <td>75.600000</td>\n",
       "      <td>1033.090000</td>\n",
       "      <td>100.090000</td>\n",
       "      <td>490.830000</td>\n",
       "    </tr>\n",
       "  </tbody>\n",
       "</table>\n",
       "</div>"
      ],
      "text/plain": [
       "       Temperature  Exhaust Vaccum  Ambient Pressure  Relative Humidity  \\\n",
       "count    50.000000       50.000000         50.000000          50.000000   \n",
       "mean     20.611600       54.844400       1013.617200          72.667400   \n",
       "std       7.590746       12.381065          6.279412          14.844648   \n",
       "min       5.620000       36.710000       1001.140000          28.160000   \n",
       "25%      13.897500       42.920000       1009.472500          65.060000   \n",
       "50%      20.945000       56.545000       1013.460000          74.670000   \n",
       "75%      26.442500       63.782500       1017.147500          84.320000   \n",
       "max      33.940000       75.600000       1033.090000         100.090000   \n",
       "\n",
       "       Energy Output  \n",
       "count      50.000000  \n",
       "mean      452.257400  \n",
       "std        16.807568  \n",
       "min       427.630000  \n",
       "25%       437.740000  \n",
       "50%       450.835000  \n",
       "75%       464.955000  \n",
       "max       490.830000  "
      ]
     },
     "execution_count": 26,
     "metadata": {},
     "output_type": "execute_result"
    }
   ],
   "source": [
    "d.describe()"
   ]
  },
  {
   "cell_type": "code",
   "execution_count": 27,
   "metadata": {},
   "outputs": [
    {
     "data": {
      "text/plain": [
       "LinearRegression(copy_X=True, fit_intercept=True, n_jobs=None, normalize=False)"
      ]
     },
     "execution_count": 27,
     "metadata": {},
     "output_type": "execute_result"
    }
   ],
   "source": [
    "#Training the data\n",
    "from sklearn.linear_model import LinearRegression\n",
    "multilinear=LinearRegression()\n",
    "multilinear.fit(x_train,y_train)"
   ]
  },
  {
   "cell_type": "code",
   "execution_count": 28,
   "metadata": {},
   "outputs": [],
   "source": [
    "#Testing the data\n",
    "y_pred=multilinear.predict(x_test)"
   ]
  },
  {
   "cell_type": "code",
   "execution_count": 29,
   "metadata": {},
   "outputs": [
    {
     "data": {
      "text/plain": [
       "array([[449.72895057],\n",
       "       [434.09190892],\n",
       "       [470.3067185 ],\n",
       "       [426.71253721],\n",
       "       [458.69838546],\n",
       "       [445.81763332],\n",
       "       [468.54669927],\n",
       "       [467.25252117],\n",
       "       [432.11035039],\n",
       "       [457.0092952 ]])"
      ]
     },
     "execution_count": 29,
     "metadata": {},
     "output_type": "execute_result"
    }
   ],
   "source": [
    "y_pred"
   ]
  },
  {
   "cell_type": "markdown",
   "metadata": {},
   "source": [
    "# Evaluation"
   ]
  },
  {
   "cell_type": "code",
   "execution_count": 30,
   "metadata": {},
   "outputs": [],
   "source": [
    "from sklearn.metrics import r2_score\n",
    "accuracy=r2_score(y_test,y_pred)"
   ]
  },
  {
   "cell_type": "code",
   "execution_count": 31,
   "metadata": {},
   "outputs": [
    {
     "data": {
      "text/plain": [
       "0.8245231920793814"
      ]
     },
     "execution_count": 31,
     "metadata": {},
     "output_type": "execute_result"
    }
   ],
   "source": [
    "accuracy"
   ]
  },
  {
   "cell_type": "markdown",
   "metadata": {},
   "source": [
    "# Testing the individual values"
   ]
  },
  {
   "cell_type": "code",
   "execution_count": 32,
   "metadata": {},
   "outputs": [],
   "source": [
    "s=multilinear.predict([[13.55,40.10,1015.70,86.68 ]])"
   ]
  },
  {
   "cell_type": "code",
   "execution_count": 33,
   "metadata": {},
   "outputs": [
    {
     "data": {
      "text/plain": [
       "array([[180.81375124]])"
      ]
     },
     "execution_count": 33,
     "metadata": {},
     "output_type": "execute_result"
    }
   ],
   "source": [
    "s"
   ]
  },
  {
   "cell_type": "code",
   "execution_count": 34,
   "metadata": {},
   "outputs": [
    {
     "data": {
      "text/plain": [
       "(50, 1)"
      ]
     },
     "execution_count": 34,
     "metadata": {},
     "output_type": "execute_result"
    }
   ],
   "source": [
    "y.shape"
   ]
  },
  {
   "cell_type": "code",
   "execution_count": 35,
   "metadata": {},
   "outputs": [],
   "source": [
    "import matplotlib.pyplot as plt"
   ]
  },
  {
   "cell_type": "code",
   "execution_count": 36,
   "metadata": {},
   "outputs": [
    {
     "data": {
      "image/png": "[encoded data removed]",
      "text/plain": [
       "<Figure size 432x288 with 1 Axes>"
      ]
     },
     "metadata": {
      "needs_background": "light"
     },
     "output_type": "display_data"
    }
   ],
   "source": [
    "plt.scatter(x_test[:,3:4],y_test,color='red')\n",
    "plt.plot(x_test[:,3:4],multilinear.predict(x_test),color='blue')\n",
    "plt.show()"
   ]
  },
  {
   "cell_type": "code",
   "execution_count": 37,
   "metadata": {},
   "outputs": [],
   "source": [
    "import pickle\n",
    "pickle.dump(multilinear,open('Energy Output.pkl','wb'))"
   ]
  },
  {
   "cell_type": "code",
   "execution_count": null,
   "metadata": {},
   "outputs": [],
   "source": []
  }
 ],
 "metadata": {
  "colab": {
   "collapsed_sections": [],
   "name": "Untitled6.ipynb",
   "provenance": []
  },
  "kernelspec": {
   "display_name": "Python 3",
   "language": "python",
   "name": "python3"
  },
  "language_info": {
   "codemirror_mode": {
    "name": "ipython",
    "version": 3
   },
   "file_extension": ".py",
   "mimetype": "text/x-python",
   "name": "python",
   "nbconvert_exporter": "python",
   "pygments_lexer": "ipython3",
   "version": "3.7.6"
  }
 },
 "nbformat": 4,
 "nbformat_minor": 1
}
